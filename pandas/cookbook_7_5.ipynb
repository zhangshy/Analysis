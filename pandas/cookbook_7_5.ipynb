{
 "cells": [
  {
   "cell_type": "code",
   "execution_count": 2,
   "metadata": {
    "collapsed": true
   },
   "outputs": [],
   "source": [
    "import pandas as pd\n",
    "import numpy as np"
   ]
  },
  {
   "cell_type": "code",
   "execution_count": 20,
   "metadata": {
    "collapsed": false
   },
   "outputs": [
    {
     "name": "stdout",
     "output_type": "stream",
     "text": [
      "   adult animal size  weight\n",
      "0  False    cat    S       8\n",
      "1  False    dog    S      10\n",
      "2  False    cat    M      11\n",
      "3  False   fish    M       1\n",
      "4  False    dog    M      20\n",
      "5   True    cat    L      12\n",
      "6   True    cat    L      12\n"
     ]
    },
    {
     "data": {
      "text/plain": [
       "animal\n",
       "cat       L\n",
       "dog       M\n",
       "fish      M\n",
       "dtype: object"
      ]
     },
     "execution_count": 20,
     "metadata": {},
     "output_type": "execute_result"
    }
   ],
   "source": [
    "df = pd.DataFrame({'animal': 'cat dog cat fish dog cat cat'.split(),\n",
    "                  'size':list('SSMMMLL'),\n",
    "                  'weight': [8, 10, 11, 1, 20, 12, 12],\n",
    "                  'adult' : [False] * 5 + [True] * 2})\n",
    "print(df)\n",
    "df.groupby('animal').apply(lambda subf: subf['size'][subf['weight'].idxmax()])"
   ]
  },
  {
   "cell_type": "code",
   "execution_count": 23,
   "metadata": {
    "collapsed": false
   },
   "outputs": [
    {
     "data": {
      "text/html": [
       "<div style=\"max-height:1000px;max-width:1500px;overflow:auto;\">\n",
       "<table border=\"1\" class=\"dataframe\">\n",
       "  <thead>\n",
       "    <tr style=\"text-align: right;\">\n",
       "      <th></th>\n",
       "      <th>adult</th>\n",
       "      <th>animal</th>\n",
       "      <th>size</th>\n",
       "      <th>weight</th>\n",
       "    </tr>\n",
       "  </thead>\n",
       "  <tbody>\n",
       "    <tr>\n",
       "      <th>0</th>\n",
       "      <td> False</td>\n",
       "      <td> cat</td>\n",
       "      <td> S</td>\n",
       "      <td>  8</td>\n",
       "    </tr>\n",
       "    <tr>\n",
       "      <th>2</th>\n",
       "      <td> False</td>\n",
       "      <td> cat</td>\n",
       "      <td> M</td>\n",
       "      <td> 11</td>\n",
       "    </tr>\n",
       "    <tr>\n",
       "      <th>5</th>\n",
       "      <td>  True</td>\n",
       "      <td> cat</td>\n",
       "      <td> L</td>\n",
       "      <td> 12</td>\n",
       "    </tr>\n",
       "    <tr>\n",
       "      <th>6</th>\n",
       "      <td>  True</td>\n",
       "      <td> cat</td>\n",
       "      <td> L</td>\n",
       "      <td> 12</td>\n",
       "    </tr>\n",
       "  </tbody>\n",
       "</table>\n",
       "</div>"
      ],
      "text/plain": [
       "   adult animal size  weight\n",
       "0  False    cat    S       8\n",
       "2  False    cat    M      11\n",
       "5   True    cat    L      12\n",
       "6   True    cat    L      12"
      ]
     },
     "execution_count": 23,
     "metadata": {},
     "output_type": "execute_result"
    }
   ],
   "source": [
    "gb = df.groupby('animal')\n",
    "gb.get_group('cat')"
   ]
  },
  {
   "cell_type": "code",
   "execution_count": 25,
   "metadata": {
    "collapsed": false
   },
   "outputs": [
    {
     "data": {
      "text/html": [
       "<div style=\"max-height:1000px;max-width:1500px;overflow:auto;\">\n",
       "<table border=\"1\" class=\"dataframe\">\n",
       "  <thead>\n",
       "    <tr style=\"text-align: right;\">\n",
       "      <th></th>\n",
       "      <th>size</th>\n",
       "      <th>weight</th>\n",
       "      <th>adult</th>\n",
       "    </tr>\n",
       "    <tr>\n",
       "      <th>animal</th>\n",
       "      <th></th>\n",
       "      <th></th>\n",
       "      <th></th>\n",
       "    </tr>\n",
       "  </thead>\n",
       "  <tbody>\n",
       "    <tr>\n",
       "      <th>cat</th>\n",
       "      <td> L</td>\n",
       "      <td> 12.4375</td>\n",
       "      <td> True</td>\n",
       "    </tr>\n",
       "    <tr>\n",
       "      <th>dog</th>\n",
       "      <td> L</td>\n",
       "      <td> 20.0000</td>\n",
       "      <td> True</td>\n",
       "    </tr>\n",
       "    <tr>\n",
       "      <th>fish</th>\n",
       "      <td> L</td>\n",
       "      <td>  1.2500</td>\n",
       "      <td> True</td>\n",
       "    </tr>\n",
       "  </tbody>\n",
       "</table>\n",
       "</div>"
      ],
      "text/plain": [
       "       size   weight adult\n",
       "animal                    \n",
       "cat       L  12.4375  True\n",
       "dog       L  20.0000  True\n",
       "fish      L   1.2500  True"
      ]
     },
     "execution_count": 25,
     "metadata": {},
     "output_type": "execute_result"
    }
   ],
   "source": [
    "def GrowUp(x):\n",
    "    avg_weight =  sum(x[x['size'] == 'S'].weight * 1.5)\n",
    "    avg_weight += sum(x[x['size'] == 'M'].weight * 1.25)\n",
    "    avg_weight += sum(x[x['size'] == 'L'].weight)\n",
    "    avg_weight /= len(x)\n",
    "    return pd.Series(['L',avg_weight,True], index=['size', 'weight', 'adult'])\n",
    "expected_df = gb.apply(GrowUp)\n",
    "expected_df"
   ]
  },
  {
   "cell_type": "code",
   "execution_count": 44,
   "metadata": {
    "collapsed": false,
    "scrolled": false
   },
   "outputs": [
    {
     "name": "stdout",
     "output_type": "stream",
     "text": [
      "0    0.01\n",
      "1    0.02\n",
      "2    0.03\n",
      "3    0.04\n",
      "4    0.05\n",
      "5    0.06\n",
      "6    0.07\n",
      "7    0.08\n",
      "8    0.09\n",
      "9    0.10\n",
      "dtype: float64\n",
      "in Red\n",
      "[ 0.01]\n",
      "1.000000 0.010000\n",
      "in Red\n",
      "[ 0.01  0.02]\n",
      "1.000000 0.010000\n",
      "1.010000 0.020000\n",
      "in Red\n",
      "[ 0.01  0.02  0.03]\n",
      "1.000000 0.010000\n",
      "1.010000 0.020000\n",
      "1.030200 0.030000\n",
      "in Red\n",
      "[ 0.01  0.02  0.03  0.04]\n",
      "1.000000 0.010000\n",
      "1.010000 0.020000\n",
      "1.030200 0.030000\n",
      "1.061106 0.040000\n",
      "in Red\n",
      "[ 0.01  0.02  0.03  0.04  0.05]\n",
      "1.000000 0.010000\n",
      "1.010000 0.020000\n",
      "1.030200 0.030000\n",
      "1.061106 0.040000\n",
      "1.103550 0.050000\n",
      "in Red\n",
      "[ 0.01  0.02  0.03  0.04  0.05  0.06]\n",
      "1.000000 0.010000\n",
      "1.010000 0.020000\n",
      "1.030200 0.030000\n",
      "1.061106 0.040000\n",
      "1.103550 0.050000\n",
      "1.158728 0.060000\n",
      "in Red\n",
      "[ 0.01  0.02  0.03  0.04  0.05  0.06  0.07]\n",
      "1.000000 0.010000\n",
      "1.010000 0.020000\n",
      "1.030200 0.030000\n",
      "1.061106 0.040000\n",
      "1.103550 0.050000\n",
      "1.158728 0.060000\n",
      "1.228251 0.070000\n",
      "in Red\n",
      "[ 0.01  0.02  0.03  0.04  0.05  0.06  0.07  0.08]\n",
      "1.000000 0.010000\n",
      "1.010000 0.020000\n",
      "1.030200 0.030000\n",
      "1.061106 0.040000\n",
      "1.103550 0.050000\n",
      "1.158728 0.060000\n",
      "1.228251 0.070000\n",
      "1.314229 0.080000\n",
      "in Red\n",
      "[ 0.01  0.02  0.03  0.04  0.05  0.06  0.07  0.08  0.09]\n",
      "1.000000 0.010000\n",
      "1.010000 0.020000\n",
      "1.030200 0.030000\n",
      "1.061106 0.040000\n",
      "1.103550 0.050000\n",
      "1.158728 0.060000\n",
      "1.228251 0.070000\n",
      "1.314229 0.080000\n",
      "1.419367 0.090000\n",
      "in Red\n",
      "[ 0.01  0.02  0.03  0.04  0.05  0.06  0.07  0.08  0.09  0.1 ]\n",
      "1.000000 0.010000\n",
      "1.010000 0.020000\n",
      "1.030200 0.030000\n",
      "1.061106 0.040000\n",
      "1.103550 0.050000\n",
      "1.158728 0.060000\n",
      "1.228251 0.070000\n",
      "1.314229 0.080000\n",
      "1.419367 0.090000\n",
      "1.547110 0.100000\n"
     ]
    },
    {
     "data": {
      "text/plain": [
       "0    1.010000\n",
       "1    1.030200\n",
       "2    1.061106\n",
       "3    1.103550\n",
       "4    1.158728\n",
       "5    1.228251\n",
       "6    1.314229\n",
       "7    1.419367\n",
       "8    1.547110\n",
       "9    1.701821\n",
       "dtype: float64"
      ]
     },
     "execution_count": 44,
     "metadata": {},
     "output_type": "execute_result"
    }
   ],
   "source": [
    "import functools\n",
    "S = pd.Series([i/100.0 for i in range(1,11)])\n",
    "print(S)\n",
    "def CumRet(x, y):\n",
    "    print(\"%f %f\" % (x,y))\n",
    "    return x*(1+y)\n",
    "\n",
    "def Red(x):\n",
    "    print(\"in Red\")\n",
    "    print(x)\n",
    "    return functools.reduce(CumRet,x,1.0)\n",
    "\n",
    "pd.expanding_apply(S, Red)"
   ]
  },
  {
   "cell_type": "code",
   "execution_count": 49,
   "metadata": {
    "collapsed": false
   },
   "outputs": [
    {
     "name": "stdout",
     "output_type": "stream",
     "text": [
      "<class 'pandas.core.groupby.DataFrameGroupBy'>\n",
      "0    1\n",
      "1   -1\n",
      "Name: B, dtype: int64\n",
      "   B\n",
      "0  1\n",
      "1  1\n",
      "2    1\n",
      "3    2\n",
      "Name: B, dtype: int64\n"
     ]
    },
    {
     "data": {
      "text/html": [
       "<div style=\"max-height:1000px;max-width:1500px;overflow:auto;\">\n",
       "<table border=\"1\" class=\"dataframe\">\n",
       "  <thead>\n",
       "    <tr style=\"text-align: right;\">\n",
       "      <th></th>\n",
       "      <th>B</th>\n",
       "    </tr>\n",
       "  </thead>\n",
       "  <tbody>\n",
       "    <tr>\n",
       "      <th>0</th>\n",
       "      <td> 1</td>\n",
       "    </tr>\n",
       "    <tr>\n",
       "      <th>1</th>\n",
       "      <td> 1</td>\n",
       "    </tr>\n",
       "    <tr>\n",
       "      <th>2</th>\n",
       "      <td> 1</td>\n",
       "    </tr>\n",
       "    <tr>\n",
       "      <th>3</th>\n",
       "      <td> 2</td>\n",
       "    </tr>\n",
       "  </tbody>\n",
       "</table>\n",
       "</div>"
      ],
      "text/plain": [
       "   B\n",
       "0  1\n",
       "1  1\n",
       "2  1\n",
       "3  2"
      ]
     },
     "execution_count": 49,
     "metadata": {},
     "output_type": "execute_result"
    }
   ],
   "source": [
    "df = pd.DataFrame({'A':[1,1,2,2], 'B':[1,-1,1,2]})\n",
    "gb = df.groupby('A')\n",
    "print(type(gb))\n",
    "def replace(g):\n",
    "    print(g)\n",
    "    mask = g<0\n",
    "    g.loc[mask] = g[~mask].mean()\n",
    "    return g\n",
    "gb.transform(replace)"
   ]
  },
  {
   "cell_type": "code",
   "execution_count": 52,
   "metadata": {
    "collapsed": false
   },
   "outputs": [
    {
     "name": "stdout",
     "output_type": "stream",
     "text": [
      "   data\n",
      "0  0.61\n",
      "1 -0.80\n",
      "2  0.95\n",
      "3  0.61\n",
      "4 -0.80\n",
      "5  0.95\n",
      "   data\n",
      "1 -0.80\n",
      "4 -0.80\n",
      "0  0.61\n",
      "3  0.61\n",
      "2  0.95\n",
      "5  0.95\n"
     ]
    },
    {
     "data": {
      "text/html": [
       "<div style=\"max-height:1000px;max-width:1500px;overflow:auto;\">\n",
       "<table border=\"1\" class=\"dataframe\">\n",
       "  <thead>\n",
       "    <tr style=\"text-align: right;\">\n",
       "      <th></th>\n",
       "      <th>code</th>\n",
       "      <th>data</th>\n",
       "      <th>flag</th>\n",
       "    </tr>\n",
       "  </thead>\n",
       "  <tbody>\n",
       "    <tr>\n",
       "      <th>1</th>\n",
       "      <td> bar</td>\n",
       "      <td>-0.21</td>\n",
       "      <td>  True</td>\n",
       "    </tr>\n",
       "    <tr>\n",
       "      <th>4</th>\n",
       "      <td> bar</td>\n",
       "      <td>-0.59</td>\n",
       "      <td> False</td>\n",
       "    </tr>\n",
       "    <tr>\n",
       "      <th>0</th>\n",
       "      <td> foo</td>\n",
       "      <td> 0.16</td>\n",
       "      <td> False</td>\n",
       "    </tr>\n",
       "    <tr>\n",
       "      <th>3</th>\n",
       "      <td> foo</td>\n",
       "      <td> 0.45</td>\n",
       "      <td>  True</td>\n",
       "    </tr>\n",
       "    <tr>\n",
       "      <th>2</th>\n",
       "      <td> baz</td>\n",
       "      <td> 0.33</td>\n",
       "      <td> False</td>\n",
       "    </tr>\n",
       "    <tr>\n",
       "      <th>5</th>\n",
       "      <td> baz</td>\n",
       "      <td> 0.62</td>\n",
       "      <td>  True</td>\n",
       "    </tr>\n",
       "  </tbody>\n",
       "</table>\n",
       "</div>"
      ],
      "text/plain": [
       "  code  data   flag\n",
       "1  bar -0.21   True\n",
       "4  bar -0.59  False\n",
       "0  foo  0.16  False\n",
       "3  foo  0.45   True\n",
       "2  baz  0.33  False\n",
       "5  baz  0.62   True"
      ]
     },
     "execution_count": 52,
     "metadata": {},
     "output_type": "execute_result"
    }
   ],
   "source": [
    "df = pd.DataFrame({'code':['foo', 'bar', 'baz']*2,\n",
    "                 'data': [0.16, -0.21, 0.33, 0.45, -0.59, 0.62],\n",
    "                 'flag':[False, True]*3})\n",
    "code_groups = df.groupby('code')\n",
    "print(code_groups[['data']].transform(sum))\n",
    "agg_n_sort_order = code_groups[['data']].transform(sum).sort('data')\n",
    "print(agg_n_sort_order)\n",
    "sorted_df = df.ix[agg_n_sort_order.index]\n",
    "sorted_df"
   ]
  },
  {
   "cell_type": "code",
   "execution_count": null,
   "metadata": {
    "collapsed": true
   },
   "outputs": [],
   "source": []
  }
 ],
 "metadata": {
  "kernelspec": {
   "display_name": "Python 2",
   "language": "python",
   "name": "python2"
  },
  "language_info": {
   "codemirror_mode": {
    "name": "ipython",
    "version": 2
   },
   "file_extension": ".py",
   "mimetype": "text/x-python",
   "name": "python",
   "nbconvert_exporter": "python",
   "pygments_lexer": "ipython2",
   "version": "2.7.9"
  }
 },
 "nbformat": 4,
 "nbformat_minor": 0
}

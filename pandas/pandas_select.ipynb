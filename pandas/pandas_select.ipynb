{
 "metadata": {
  "name": "",
  "signature": "sha256:014ca45a52bf3d2139dda5fffc8a001b51a0816b6f649e30ec7037c5784cde26"
 },
 "nbformat": 3,
 "nbformat_minor": 0,
 "worksheets": [
  {
   "cells": [
    {
     "cell_type": "code",
     "collapsed": false,
     "input": [
      "import pandas as pd\n",
      "import numpy as np"
     ],
     "language": "python",
     "metadata": {},
     "outputs": [],
     "prompt_number": 1
    },
    {
     "cell_type": "code",
     "collapsed": false,
     "input": [
      "df = pd.DataFrame(np.random.randn(6,4), index=list('abcdef'), columns=list('ABCD'))\n",
      "df"
     ],
     "language": "python",
     "metadata": {},
     "outputs": [
      {
       "html": [
        "<div style=\"max-height:1000px;max-width:1500px;overflow:auto;\">\n",
        "<table border=\"1\" class=\"dataframe\">\n",
        "  <thead>\n",
        "    <tr style=\"text-align: right;\">\n",
        "      <th></th>\n",
        "      <th>A</th>\n",
        "      <th>B</th>\n",
        "      <th>C</th>\n",
        "      <th>D</th>\n",
        "    </tr>\n",
        "  </thead>\n",
        "  <tbody>\n",
        "    <tr>\n",
        "      <th>a</th>\n",
        "      <td> 1.062280</td>\n",
        "      <td> 0.010478</td>\n",
        "      <td>-1.545655</td>\n",
        "      <td> 0.265307</td>\n",
        "    </tr>\n",
        "    <tr>\n",
        "      <th>b</th>\n",
        "      <td>-0.272014</td>\n",
        "      <td> 0.232527</td>\n",
        "      <td>-0.883105</td>\n",
        "      <td> 0.011720</td>\n",
        "    </tr>\n",
        "    <tr>\n",
        "      <th>c</th>\n",
        "      <td>-0.401103</td>\n",
        "      <td>-0.733637</td>\n",
        "      <td>-0.204077</td>\n",
        "      <td>-0.244202</td>\n",
        "    </tr>\n",
        "    <tr>\n",
        "      <th>d</th>\n",
        "      <td> 0.226431</td>\n",
        "      <td>-0.072039</td>\n",
        "      <td>-0.051135</td>\n",
        "      <td> 1.135403</td>\n",
        "    </tr>\n",
        "    <tr>\n",
        "      <th>e</th>\n",
        "      <td> 0.195347</td>\n",
        "      <td>-0.672573</td>\n",
        "      <td> 1.364266</td>\n",
        "      <td> 1.007918</td>\n",
        "    </tr>\n",
        "    <tr>\n",
        "      <th>f</th>\n",
        "      <td>-1.491043</td>\n",
        "      <td> 0.774079</td>\n",
        "      <td> 0.764152</td>\n",
        "      <td>-2.042346</td>\n",
        "    </tr>\n",
        "  </tbody>\n",
        "</table>\n",
        "</div>"
       ],
       "metadata": {},
       "output_type": "pyout",
       "prompt_number": 2,
       "text": [
        "          A         B         C         D\n",
        "a  1.062280  0.010478 -1.545655  0.265307\n",
        "b -0.272014  0.232527 -0.883105  0.011720\n",
        "c -0.401103 -0.733637 -0.204077 -0.244202\n",
        "d  0.226431 -0.072039 -0.051135  1.135403\n",
        "e  0.195347 -0.672573  1.364266  1.007918\n",
        "f -1.491043  0.774079  0.764152 -2.042346"
       ]
      }
     ],
     "prompt_number": 2
    },
    {
     "cell_type": "code",
     "collapsed": false,
     "input": [
      "df['A':'C']"
     ],
     "language": "python",
     "metadata": {},
     "outputs": [
      {
       "html": [
        "<div style=\"max-height:1000px;max-width:1500px;overflow:auto;\">\n",
        "<table border=\"1\" class=\"dataframe\">\n",
        "  <thead>\n",
        "    <tr style=\"text-align: right;\">\n",
        "      <th></th>\n",
        "      <th>A</th>\n",
        "      <th>B</th>\n",
        "      <th>C</th>\n",
        "      <th>D</th>\n",
        "    </tr>\n",
        "  </thead>\n",
        "  <tbody>\n",
        "  </tbody>\n",
        "</table>\n",
        "</div>"
       ],
       "metadata": {},
       "output_type": "pyout",
       "prompt_number": 8,
       "text": [
        "Empty DataFrame\n",
        "Columns: [A, B, C, D]\n",
        "Index: []"
       ]
      }
     ],
     "prompt_number": 8
    },
    {
     "cell_type": "code",
     "collapsed": false,
     "input": [
      "df[['A','C']]"
     ],
     "language": "python",
     "metadata": {},
     "outputs": [
      {
       "html": [
        "<div style=\"max-height:1000px;max-width:1500px;overflow:auto;\">\n",
        "<table border=\"1\" class=\"dataframe\">\n",
        "  <thead>\n",
        "    <tr style=\"text-align: right;\">\n",
        "      <th></th>\n",
        "      <th>A</th>\n",
        "      <th>C</th>\n",
        "    </tr>\n",
        "  </thead>\n",
        "  <tbody>\n",
        "    <tr>\n",
        "      <th>a</th>\n",
        "      <td> 1.062280</td>\n",
        "      <td>-1.545655</td>\n",
        "    </tr>\n",
        "    <tr>\n",
        "      <th>b</th>\n",
        "      <td>-0.272014</td>\n",
        "      <td>-0.883105</td>\n",
        "    </tr>\n",
        "    <tr>\n",
        "      <th>c</th>\n",
        "      <td>-0.401103</td>\n",
        "      <td>-0.204077</td>\n",
        "    </tr>\n",
        "    <tr>\n",
        "      <th>d</th>\n",
        "      <td> 0.226431</td>\n",
        "      <td>-0.051135</td>\n",
        "    </tr>\n",
        "    <tr>\n",
        "      <th>e</th>\n",
        "      <td> 0.195347</td>\n",
        "      <td> 1.364266</td>\n",
        "    </tr>\n",
        "    <tr>\n",
        "      <th>f</th>\n",
        "      <td>-1.491043</td>\n",
        "      <td> 0.764152</td>\n",
        "    </tr>\n",
        "  </tbody>\n",
        "</table>\n",
        "</div>"
       ],
       "metadata": {},
       "output_type": "pyout",
       "prompt_number": 4,
       "text": [
        "          A         C\n",
        "a  1.062280 -1.545655\n",
        "b -0.272014 -0.883105\n",
        "c -0.401103 -0.204077\n",
        "d  0.226431 -0.051135\n",
        "e  0.195347  1.364266\n",
        "f -1.491043  0.764152"
       ]
      }
     ],
     "prompt_number": 4
    },
    {
     "cell_type": "code",
     "collapsed": false,
     "input": [
      "df[0:2]"
     ],
     "language": "python",
     "metadata": {},
     "outputs": [
      {
       "html": [
        "<div style=\"max-height:1000px;max-width:1500px;overflow:auto;\">\n",
        "<table border=\"1\" class=\"dataframe\">\n",
        "  <thead>\n",
        "    <tr style=\"text-align: right;\">\n",
        "      <th></th>\n",
        "      <th>A</th>\n",
        "      <th>B</th>\n",
        "      <th>C</th>\n",
        "      <th>D</th>\n",
        "    </tr>\n",
        "  </thead>\n",
        "  <tbody>\n",
        "    <tr>\n",
        "      <th>a</th>\n",
        "      <td> 1.062280</td>\n",
        "      <td> 0.010478</td>\n",
        "      <td>-1.545655</td>\n",
        "      <td> 0.265307</td>\n",
        "    </tr>\n",
        "    <tr>\n",
        "      <th>b</th>\n",
        "      <td>-0.272014</td>\n",
        "      <td> 0.232527</td>\n",
        "      <td>-0.883105</td>\n",
        "      <td> 0.011720</td>\n",
        "    </tr>\n",
        "  </tbody>\n",
        "</table>\n",
        "</div>"
       ],
       "metadata": {},
       "output_type": "pyout",
       "prompt_number": 6,
       "text": [
        "          A         B         C         D\n",
        "a  1.062280  0.010478 -1.545655  0.265307\n",
        "b -0.272014  0.232527 -0.883105  0.011720"
       ]
      }
     ],
     "prompt_number": 6
    },
    {
     "cell_type": "code",
     "collapsed": false,
     "input": [
      "print(df.loc['a':'c'])\n",
      "print(df.iloc[0:2])"
     ],
     "language": "python",
     "metadata": {},
     "outputs": [
      {
       "output_type": "stream",
       "stream": "stdout",
       "text": [
        "          A         B         C         D\n",
        "a  1.062280  0.010478 -1.545655  0.265307\n",
        "b -0.272014  0.232527 -0.883105  0.011720\n",
        "c -0.401103 -0.733637 -0.204077 -0.244202\n",
        "          A         B         C         D\n",
        "a  1.062280  0.010478 -1.545655  0.265307\n",
        "b -0.272014  0.232527 -0.883105  0.011720\n"
       ]
      }
     ],
     "prompt_number": 12
    },
    {
     "cell_type": "code",
     "collapsed": false,
     "input": [
      "print(df.A)\n",
      "print(df['A'])"
     ],
     "language": "python",
     "metadata": {},
     "outputs": [
      {
       "output_type": "stream",
       "stream": "stdout",
       "text": [
        "a    1.062280\n",
        "b   -0.272014\n",
        "c   -0.401103\n",
        "d    0.226431\n",
        "e    0.195347\n",
        "f   -1.491043\n",
        "Name: A, dtype: float64\n",
        "a    1.062280\n",
        "b   -0.272014\n",
        "c   -0.401103\n",
        "d    0.226431\n",
        "e    0.195347\n",
        "f   -1.491043\n",
        "Name: A, dtype: float64\n"
       ]
      }
     ],
     "prompt_number": 14
    },
    {
     "cell_type": "code",
     "collapsed": false,
     "input": [
      "df.E = list(range(len(df.index)))"
     ],
     "language": "python",
     "metadata": {},
     "outputs": [],
     "prompt_number": 15
    },
    {
     "cell_type": "code",
     "collapsed": false,
     "input": [
      "print(df)"
     ],
     "language": "python",
     "metadata": {},
     "outputs": [
      {
       "output_type": "stream",
       "stream": "stdout",
       "text": [
        "          A         B         C         D\n",
        "a  1.062280  0.010478 -1.545655  0.265307\n",
        "b -0.272014  0.232527 -0.883105  0.011720\n",
        "c -0.401103 -0.733637 -0.204077 -0.244202\n",
        "d  0.226431 -0.072039 -0.051135  1.135403\n",
        "e  0.195347 -0.672573  1.364266  1.007918\n",
        "f -1.491043  0.774079  0.764152 -2.042346\n"
       ]
      }
     ],
     "prompt_number": 18
    },
    {
     "cell_type": "code",
     "collapsed": false,
     "input": [
      "df['E'] = list(range(len(df.index)))\n",
      "print(df)"
     ],
     "language": "python",
     "metadata": {},
     "outputs": [
      {
       "output_type": "stream",
       "stream": "stdout",
       "text": [
        "          A         B         C         D  E\n",
        "a  1.062280  0.010478 -1.545655  0.265307  0\n",
        "b -0.272014  0.232527 -0.883105  0.011720  1\n",
        "c -0.401103 -0.733637 -0.204077 -0.244202  2\n",
        "d  0.226431 -0.072039 -0.051135  1.135403  3\n",
        "e  0.195347 -0.672573  1.364266  1.007918  4\n",
        "f -1.491043  0.774079  0.764152 -2.042346  5\n"
       ]
      }
     ],
     "prompt_number": 21
    },
    {
     "cell_type": "code",
     "collapsed": false,
     "input": [
      "print(df.at['a','A'])\n",
      "print(df.iat[0,0])"
     ],
     "language": "python",
     "metadata": {},
     "outputs": [
      {
       "output_type": "stream",
       "stream": "stdout",
       "text": [
        "1.06227977096\n",
        "1.06227977096\n"
       ]
      }
     ],
     "prompt_number": 24
    },
    {
     "cell_type": "code",
     "collapsed": false,
     "input": [
      "df['A']>0\n",
      "df[(df['A']>0)|(df['B']>0)]"
     ],
     "language": "python",
     "metadata": {},
     "outputs": [
      {
       "html": [
        "<div style=\"max-height:1000px;max-width:1500px;overflow:auto;\">\n",
        "<table border=\"1\" class=\"dataframe\">\n",
        "  <thead>\n",
        "    <tr style=\"text-align: right;\">\n",
        "      <th></th>\n",
        "      <th>A</th>\n",
        "      <th>B</th>\n",
        "      <th>C</th>\n",
        "      <th>D</th>\n",
        "      <th>E</th>\n",
        "    </tr>\n",
        "  </thead>\n",
        "  <tbody>\n",
        "    <tr>\n",
        "      <th>a</th>\n",
        "      <td> 1.062280</td>\n",
        "      <td> 0.010478</td>\n",
        "      <td>-1.545655</td>\n",
        "      <td> 0.265307</td>\n",
        "      <td> 0</td>\n",
        "    </tr>\n",
        "    <tr>\n",
        "      <th>b</th>\n",
        "      <td>-0.272014</td>\n",
        "      <td> 0.232527</td>\n",
        "      <td>-0.883105</td>\n",
        "      <td> 0.011720</td>\n",
        "      <td> 1</td>\n",
        "    </tr>\n",
        "    <tr>\n",
        "      <th>d</th>\n",
        "      <td> 0.226431</td>\n",
        "      <td>-0.072039</td>\n",
        "      <td>-0.051135</td>\n",
        "      <td> 1.135403</td>\n",
        "      <td> 3</td>\n",
        "    </tr>\n",
        "    <tr>\n",
        "      <th>e</th>\n",
        "      <td> 0.195347</td>\n",
        "      <td>-0.672573</td>\n",
        "      <td> 1.364266</td>\n",
        "      <td> 1.007918</td>\n",
        "      <td> 4</td>\n",
        "    </tr>\n",
        "    <tr>\n",
        "      <th>f</th>\n",
        "      <td>-1.491043</td>\n",
        "      <td> 0.774079</td>\n",
        "      <td> 0.764152</td>\n",
        "      <td>-2.042346</td>\n",
        "      <td> 5</td>\n",
        "    </tr>\n",
        "  </tbody>\n",
        "</table>\n",
        "</div>"
       ],
       "metadata": {},
       "output_type": "pyout",
       "prompt_number": 29,
       "text": [
        "          A         B         C         D  E\n",
        "a  1.062280  0.010478 -1.545655  0.265307  0\n",
        "b -0.272014  0.232527 -0.883105  0.011720  1\n",
        "d  0.226431 -0.072039 -0.051135  1.135403  3\n",
        "e  0.195347 -0.672573  1.364266  1.007918  4\n",
        "f -1.491043  0.774079  0.764152 -2.042346  5"
       ]
      }
     ],
     "prompt_number": 29
    },
    {
     "cell_type": "code",
     "collapsed": false,
     "input": [
      "df2 = pd.DataFrame({'a' : ['one', 'one', 'two', 'three', 'two', 'one', 'six'],\n",
      "                 'b' : ['x', 'y', 'y', 'x', 'y', 'x', 'x'],\n",
      "                 'c' : randn(7)})\n",
      "# only want 'two' or 'three'\n",
      "criterion = df2['a'].map(lambda x: x.startswith('t'))\n",
      "print(df2[criterion])"
     ],
     "language": "python",
     "metadata": {},
     "outputs": [
      {
       "output_type": "stream",
       "stream": "stdout",
       "text": [
        "       a  b         c\n",
        "2    two  y -0.956077\n",
        "3  three  x  0.505570\n",
        "4    two  y -0.489219\n"
       ]
      }
     ],
     "prompt_number": 32
    },
    {
     "cell_type": "code",
     "collapsed": false,
     "input": [
      "df2[[x.startswith('t') for x in df2['a']]]"
     ],
     "language": "python",
     "metadata": {},
     "outputs": [
      {
       "html": [
        "<div style=\"max-height:1000px;max-width:1500px;overflow:auto;\">\n",
        "<table border=\"1\" class=\"dataframe\">\n",
        "  <thead>\n",
        "    <tr style=\"text-align: right;\">\n",
        "      <th></th>\n",
        "      <th>a</th>\n",
        "      <th>b</th>\n",
        "      <th>c</th>\n",
        "    </tr>\n",
        "  </thead>\n",
        "  <tbody>\n",
        "    <tr>\n",
        "      <th>2</th>\n",
        "      <td>   two</td>\n",
        "      <td> y</td>\n",
        "      <td>-0.956077</td>\n",
        "    </tr>\n",
        "    <tr>\n",
        "      <th>3</th>\n",
        "      <td> three</td>\n",
        "      <td> x</td>\n",
        "      <td> 0.505570</td>\n",
        "    </tr>\n",
        "    <tr>\n",
        "      <th>4</th>\n",
        "      <td>   two</td>\n",
        "      <td> y</td>\n",
        "      <td>-0.489219</td>\n",
        "    </tr>\n",
        "  </tbody>\n",
        "</table>\n",
        "</div>"
       ],
       "metadata": {},
       "output_type": "pyout",
       "prompt_number": 33,
       "text": [
        "       a  b         c\n",
        "2    two  y -0.956077\n",
        "3  three  x  0.505570\n",
        "4    two  y -0.489219"
       ]
      }
     ],
     "prompt_number": 33
    },
    {
     "cell_type": "code",
     "collapsed": false,
     "input": [
      "df = pd.DataFrame({'vals': [1, 2, 3, 4], 'ids': ['a', 'b', 'f', 'n'],\n",
      "                'ids2': ['a', 'n', 'c', 'n']})\n",
      "values = ['a', 'b', 1, 3]\n",
      "print(df.isin(values))"
     ],
     "language": "python",
     "metadata": {},
     "outputs": [
      {
       "output_type": "stream",
       "stream": "stdout",
       "text": [
        "     ids   ids2   vals\n",
        "0   True   True   True\n",
        "1   True  False  False\n",
        "2  False  False   True\n",
        "3  False  False  False\n"
       ]
      }
     ],
     "prompt_number": 50
    },
    {
     "cell_type": "code",
     "collapsed": false,
     "input": [
      "df.isin(values).any(1)"
     ],
     "language": "python",
     "metadata": {},
     "outputs": [
      {
       "metadata": {},
       "output_type": "pyout",
       "prompt_number": 48,
       "text": [
        "0     True\n",
        "1     True\n",
        "2     True\n",
        "3    False\n",
        "dtype: bool"
       ]
      }
     ],
     "prompt_number": 48
    },
    {
     "cell_type": "code",
     "collapsed": false,
     "input": [
      "df[df.isin(values)]"
     ],
     "language": "python",
     "metadata": {},
     "outputs": [
      {
       "html": [
        "<div style=\"max-height:1000px;max-width:1500px;overflow:auto;\">\n",
        "<table border=\"1\" class=\"dataframe\">\n",
        "  <thead>\n",
        "    <tr style=\"text-align: right;\">\n",
        "      <th></th>\n",
        "      <th>ids</th>\n",
        "      <th>ids2</th>\n",
        "      <th>vals</th>\n",
        "    </tr>\n",
        "  </thead>\n",
        "  <tbody>\n",
        "    <tr>\n",
        "      <th>0</th>\n",
        "      <td>   a</td>\n",
        "      <td>   a</td>\n",
        "      <td>  1</td>\n",
        "    </tr>\n",
        "    <tr>\n",
        "      <th>1</th>\n",
        "      <td>   b</td>\n",
        "      <td> NaN</td>\n",
        "      <td>NaN</td>\n",
        "    </tr>\n",
        "    <tr>\n",
        "      <th>2</th>\n",
        "      <td> NaN</td>\n",
        "      <td> NaN</td>\n",
        "      <td>  3</td>\n",
        "    </tr>\n",
        "    <tr>\n",
        "      <th>3</th>\n",
        "      <td> NaN</td>\n",
        "      <td> NaN</td>\n",
        "      <td>NaN</td>\n",
        "    </tr>\n",
        "  </tbody>\n",
        "</table>\n",
        "</div>"
       ],
       "metadata": {},
       "output_type": "pyout",
       "prompt_number": 51,
       "text": [
        "   ids ids2  vals\n",
        "0    a    a     1\n",
        "1    b  NaN   NaN\n",
        "2  NaN  NaN     3\n",
        "3  NaN  NaN   NaN"
       ]
      }
     ],
     "prompt_number": 51
    },
    {
     "cell_type": "code",
     "collapsed": false,
     "input": [
      "values = {'ids': ['a', 'b'], 'ids2': ['a', 'c'], 'vals': [1, 3]}\n",
      "row_mask = df.isin(values).any(1)\n",
      "print(df[row_mask])"
     ],
     "language": "python",
     "metadata": {},
     "outputs": [
      {
       "output_type": "stream",
       "stream": "stdout",
       "text": [
        "  ids ids2  vals\n",
        "0   a    a     1\n",
        "1   b    n     2\n",
        "2   f    c     3\n"
       ]
      }
     ],
     "prompt_number": 54
    },
    {
     "cell_type": "code",
     "collapsed": false,
     "input": [
      "df = pd.DataFrame(np.random.randn(6,4), index=list('abcdef'), columns=list('ABCD'))\n",
      "df.where(df>0, -df)"
     ],
     "language": "python",
     "metadata": {},
     "outputs": [
      {
       "html": [
        "<div style=\"max-height:1000px;max-width:1500px;overflow:auto;\">\n",
        "<table border=\"1\" class=\"dataframe\">\n",
        "  <thead>\n",
        "    <tr style=\"text-align: right;\">\n",
        "      <th></th>\n",
        "      <th>A</th>\n",
        "      <th>B</th>\n",
        "      <th>C</th>\n",
        "      <th>D</th>\n",
        "    </tr>\n",
        "  </thead>\n",
        "  <tbody>\n",
        "    <tr>\n",
        "      <th>a</th>\n",
        "      <td> 1.250209</td>\n",
        "      <td> 1.121675</td>\n",
        "      <td> 1.300393</td>\n",
        "      <td> 0.797235</td>\n",
        "    </tr>\n",
        "    <tr>\n",
        "      <th>b</th>\n",
        "      <td> 0.260434</td>\n",
        "      <td> 0.120795</td>\n",
        "      <td> 1.731333</td>\n",
        "      <td> 2.091827</td>\n",
        "    </tr>\n",
        "    <tr>\n",
        "      <th>c</th>\n",
        "      <td> 1.007371</td>\n",
        "      <td> 0.283169</td>\n",
        "      <td> 0.712494</td>\n",
        "      <td> 1.207836</td>\n",
        "    </tr>\n",
        "    <tr>\n",
        "      <th>d</th>\n",
        "      <td> 0.195997</td>\n",
        "      <td> 0.819606</td>\n",
        "      <td> 2.566598</td>\n",
        "      <td> 0.768647</td>\n",
        "    </tr>\n",
        "    <tr>\n",
        "      <th>e</th>\n",
        "      <td> 0.467805</td>\n",
        "      <td> 0.059807</td>\n",
        "      <td> 0.293495</td>\n",
        "      <td> 0.462179</td>\n",
        "    </tr>\n",
        "    <tr>\n",
        "      <th>f</th>\n",
        "      <td> 0.739561</td>\n",
        "      <td> 0.203078</td>\n",
        "      <td> 0.943985</td>\n",
        "      <td> 0.577938</td>\n",
        "    </tr>\n",
        "  </tbody>\n",
        "</table>\n",
        "</div>"
       ],
       "metadata": {},
       "output_type": "pyout",
       "prompt_number": 61,
       "text": [
        "          A         B         C         D\n",
        "a  1.250209  1.121675  1.300393  0.797235\n",
        "b  0.260434  0.120795  1.731333  2.091827\n",
        "c  1.007371  0.283169  0.712494  1.207836\n",
        "d  0.195997  0.819606  2.566598  0.768647\n",
        "e  0.467805  0.059807  0.293495  0.462179\n",
        "f  0.739561  0.203078  0.943985  0.577938"
       ]
      }
     ],
     "prompt_number": 61
    },
    {
     "cell_type": "code",
     "collapsed": false,
     "input": [
      "df"
     ],
     "language": "python",
     "metadata": {},
     "outputs": [
      {
       "html": [
        "<div style=\"max-height:1000px;max-width:1500px;overflow:auto;\">\n",
        "<table border=\"1\" class=\"dataframe\">\n",
        "  <thead>\n",
        "    <tr style=\"text-align: right;\">\n",
        "      <th></th>\n",
        "      <th>A</th>\n",
        "      <th>B</th>\n",
        "      <th>C</th>\n",
        "      <th>D</th>\n",
        "    </tr>\n",
        "  </thead>\n",
        "  <tbody>\n",
        "    <tr>\n",
        "      <th>a</th>\n",
        "      <td> 1.250209</td>\n",
        "      <td> 1.121675</td>\n",
        "      <td>-1.300393</td>\n",
        "      <td> 0.797235</td>\n",
        "    </tr>\n",
        "    <tr>\n",
        "      <th>b</th>\n",
        "      <td> 0.260434</td>\n",
        "      <td> 0.120795</td>\n",
        "      <td>-1.731333</td>\n",
        "      <td> 2.091827</td>\n",
        "    </tr>\n",
        "    <tr>\n",
        "      <th>c</th>\n",
        "      <td> 1.007371</td>\n",
        "      <td>-0.283169</td>\n",
        "      <td>-0.712494</td>\n",
        "      <td>-1.207836</td>\n",
        "    </tr>\n",
        "    <tr>\n",
        "      <th>d</th>\n",
        "      <td>-0.195997</td>\n",
        "      <td>-0.819606</td>\n",
        "      <td> 2.566598</td>\n",
        "      <td>-0.768647</td>\n",
        "    </tr>\n",
        "    <tr>\n",
        "      <th>e</th>\n",
        "      <td>-0.467805</td>\n",
        "      <td> 0.059807</td>\n",
        "      <td>-0.293495</td>\n",
        "      <td>-0.462179</td>\n",
        "    </tr>\n",
        "    <tr>\n",
        "      <th>f</th>\n",
        "      <td>-0.739561</td>\n",
        "      <td>-0.203078</td>\n",
        "      <td> 0.943985</td>\n",
        "      <td> 0.577938</td>\n",
        "    </tr>\n",
        "  </tbody>\n",
        "</table>\n",
        "</div>"
       ],
       "metadata": {},
       "output_type": "pyout",
       "prompt_number": 62,
       "text": [
        "          A         B         C         D\n",
        "a  1.250209  1.121675 -1.300393  0.797235\n",
        "b  0.260434  0.120795 -1.731333  2.091827\n",
        "c  1.007371 -0.283169 -0.712494 -1.207836\n",
        "d -0.195997 -0.819606  2.566598 -0.768647\n",
        "e -0.467805  0.059807 -0.293495 -0.462179\n",
        "f -0.739561 -0.203078  0.943985  0.577938"
       ]
      }
     ],
     "prompt_number": 62
    },
    {
     "cell_type": "code",
     "collapsed": false,
     "input": [],
     "language": "python",
     "metadata": {},
     "outputs": []
    }
   ],
   "metadata": {}
  }
 ]
}
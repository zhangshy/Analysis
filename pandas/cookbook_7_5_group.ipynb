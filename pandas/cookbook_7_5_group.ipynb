{
 "metadata": {
  "name": "",
  "signature": "sha256:0dea2f653be0778c0fc8b89622356b0d2e277016c59941b55db8f8790b08c6a3"
 },
 "nbformat": 3,
 "nbformat_minor": 0,
 "worksheets": [
  {
   "cells": [
    {
     "cell_type": "code",
     "collapsed": false,
     "input": [
      "import pandas as pd\n",
      "import numpy as np"
     ],
     "language": "python",
     "metadata": {},
     "outputs": [],
     "prompt_number": 1
    },
    {
     "cell_type": "code",
     "collapsed": false,
     "input": [
      "df = pd.DataFrame({'code':['foo','bar','baz']*2,\n",
      "                   'data': [0.16, -0.21, 0.33, 0.45, -0.59, 0.62],\n",
      "                   'flag': [False, True] * 3})\n",
      "code_groups = df.groupby('code')\n",
      "print(code_groups['data'].transform(sum))\n",
      "agg_n_sort_order = code_groups[['data']].transform(sum).sort('data')\n",
      "print(agg_n_sort_order)\n",
      "sorted_df = df.ix[agg_n_sort_order.index]\n",
      "sorted_df"
     ],
     "language": "python",
     "metadata": {},
     "outputs": [
      {
       "output_type": "stream",
       "stream": "stdout",
       "text": [
        "0    0.61\n",
        "1   -0.80\n",
        "2    0.95\n",
        "3    0.61\n",
        "4   -0.80\n",
        "5    0.95\n",
        "dtype: float64\n",
        "   data\n",
        "1 -0.80\n",
        "4 -0.80\n",
        "0  0.61\n",
        "3  0.61\n",
        "2  0.95\n",
        "5  0.95\n"
       ]
      },
      {
       "html": [
        "<div style=\"max-height:1000px;max-width:1500px;overflow:auto;\">\n",
        "<table border=\"1\" class=\"dataframe\">\n",
        "  <thead>\n",
        "    <tr style=\"text-align: right;\">\n",
        "      <th></th>\n",
        "      <th>code</th>\n",
        "      <th>data</th>\n",
        "      <th>flag</th>\n",
        "    </tr>\n",
        "  </thead>\n",
        "  <tbody>\n",
        "    <tr>\n",
        "      <th>1</th>\n",
        "      <td> bar</td>\n",
        "      <td>-0.21</td>\n",
        "      <td>  True</td>\n",
        "    </tr>\n",
        "    <tr>\n",
        "      <th>4</th>\n",
        "      <td> bar</td>\n",
        "      <td>-0.59</td>\n",
        "      <td> False</td>\n",
        "    </tr>\n",
        "    <tr>\n",
        "      <th>0</th>\n",
        "      <td> foo</td>\n",
        "      <td> 0.16</td>\n",
        "      <td> False</td>\n",
        "    </tr>\n",
        "    <tr>\n",
        "      <th>3</th>\n",
        "      <td> foo</td>\n",
        "      <td> 0.45</td>\n",
        "      <td>  True</td>\n",
        "    </tr>\n",
        "    <tr>\n",
        "      <th>2</th>\n",
        "      <td> baz</td>\n",
        "      <td> 0.33</td>\n",
        "      <td> False</td>\n",
        "    </tr>\n",
        "    <tr>\n",
        "      <th>5</th>\n",
        "      <td> baz</td>\n",
        "      <td> 0.62</td>\n",
        "      <td>  True</td>\n",
        "    </tr>\n",
        "  </tbody>\n",
        "</table>\n",
        "</div>"
       ],
       "metadata": {},
       "output_type": "pyout",
       "prompt_number": 7,
       "text": [
        "  code  data   flag\n",
        "1  bar -0.21   True\n",
        "4  bar -0.59  False\n",
        "0  foo  0.16  False\n",
        "3  foo  0.45   True\n",
        "2  baz  0.33  False\n",
        "5  baz  0.62   True"
       ]
      }
     ],
     "prompt_number": 7
    },
    {
     "cell_type": "code",
     "collapsed": false,
     "input": [
      "rng = pd.date_range(start='2014-10-07',periods=10,freq='2min')\n",
      "ts = pd.Series(data=list(range(10)), index=rng)\n",
      "print(ts)\n",
      "def MyCust(x):\n",
      "    print(\"in MyCust:\\n%s\" % x)\n",
      "    if len(x)>2:\n",
      "        return x[1]*1.234\n",
      "    return pd.NaT\n",
      "\n",
      "mhc = {'Mean':np.mean, 'Max':np.max, 'Custom':MyCust}\n",
      "ts.resample(\"5min\", how=mhc)"
     ],
     "language": "python",
     "metadata": {},
     "outputs": [
      {
       "output_type": "stream",
       "stream": "stdout",
       "text": [
        "2014-10-07 00:00:00    0\n",
        "2014-10-07 00:02:00    1\n",
        "2014-10-07 00:04:00    2\n",
        "2014-10-07 00:06:00    3\n",
        "2014-10-07 00:08:00    4\n",
        "2014-10-07 00:10:00    5\n",
        "2014-10-07 00:12:00    6\n",
        "2014-10-07 00:14:00    7\n",
        "2014-10-07 00:16:00    8\n",
        "2014-10-07 00:18:00    9\n",
        "Freq: 2T, dtype: int64\n",
        "in MyCust:\n",
        "2014-10-07 00:00:00    0\n",
        "2014-10-07 00:02:00    1\n",
        "2014-10-07 00:04:00    2\n",
        "dtype: int64\n",
        "in MyCust:\n",
        "2014-10-07 00:06:00    3\n",
        "2014-10-07 00:08:00    4\n",
        "dtype: int64\n",
        "in MyCust:\n",
        "2014-10-07 00:10:00    5\n",
        "2014-10-07 00:12:00    6\n",
        "2014-10-07 00:14:00    7\n",
        "dtype: int64\n",
        "in MyCust:\n",
        "2014-10-07 00:16:00    8\n",
        "2014-10-07 00:18:00    9\n",
        "dtype: int64\n"
       ]
      },
      {
       "html": [
        "<div style=\"max-height:1000px;max-width:1500px;overflow:auto;\">\n",
        "<table border=\"1\" class=\"dataframe\">\n",
        "  <thead>\n",
        "    <tr style=\"text-align: right;\">\n",
        "      <th></th>\n",
        "      <th>Max</th>\n",
        "      <th>Custom</th>\n",
        "      <th>Mean</th>\n",
        "    </tr>\n",
        "  </thead>\n",
        "  <tbody>\n",
        "    <tr>\n",
        "      <th>2014-10-07 00:00:00</th>\n",
        "      <td> 2</td>\n",
        "      <td> 1.234</td>\n",
        "      <td> 1.0</td>\n",
        "    </tr>\n",
        "    <tr>\n",
        "      <th>2014-10-07 00:05:00</th>\n",
        "      <td> 4</td>\n",
        "      <td>   NaN</td>\n",
        "      <td> 3.5</td>\n",
        "    </tr>\n",
        "    <tr>\n",
        "      <th>2014-10-07 00:10:00</th>\n",
        "      <td> 7</td>\n",
        "      <td> 7.404</td>\n",
        "      <td> 6.0</td>\n",
        "    </tr>\n",
        "    <tr>\n",
        "      <th>2014-10-07 00:15:00</th>\n",
        "      <td> 9</td>\n",
        "      <td>   NaN</td>\n",
        "      <td> 8.5</td>\n",
        "    </tr>\n",
        "  </tbody>\n",
        "</table>\n",
        "</div>"
       ],
       "metadata": {},
       "output_type": "pyout",
       "prompt_number": 18,
       "text": [
        "                     Max Custom  Mean\n",
        "2014-10-07 00:00:00    2  1.234   1.0\n",
        "2014-10-07 00:05:00    4    NaN   3.5\n",
        "2014-10-07 00:10:00    7  7.404   6.0\n",
        "2014-10-07 00:15:00    9    NaN   8.5"
       ]
      }
     ],
     "prompt_number": 18
    },
    {
     "cell_type": "code",
     "collapsed": false,
     "input": [
      "df = pd.DataFrame({'Color': 'Red Red Red Blue'.split(),\n",
      "                   'Value': [100,150,50,50]})\n",
      "print(df)\n",
      "df['Counts'] = df.groupby('Color').transform(len)\n",
      "print(df)\n",
      "print(df['Color'].value_counts())"
     ],
     "language": "python",
     "metadata": {},
     "outputs": [
      {
       "output_type": "stream",
       "stream": "stdout",
       "text": [
        "  Color  Value\n",
        "0   Red    100\n",
        "1   Red    150\n",
        "2   Red     50\n",
        "3  Blue     50\n",
        "  Color  Value  Counts\n",
        "0   Red    100       3\n",
        "1   Red    150       3\n",
        "2   Red     50       3\n",
        "3  Blue     50       1\n",
        "Red     3\n",
        "Blue    1\n",
        "dtype: int64\n"
       ]
      }
     ],
     "prompt_number": 32
    },
    {
     "cell_type": "code",
     "collapsed": false,
     "input": [
      "df = pd.DataFrame({u'line_race': [10, 10, 8, 10, 10, 8],\n",
      "                   u'beyer': [99, 102, 103, 103, 88, 100]},\n",
      "                  index=[u'Last Gunfighter', u'Last Gunfighter', u'Last Gunfighter',\n",
      "                         u'Paynter', u'Paynter', u'Paynter'])\n",
      "print(df)\n",
      "df['beyer_shifted'] = df.groupby(level=0)['beyer'].shift(1)\n",
      "df"
     ],
     "language": "python",
     "metadata": {},
     "outputs": [
      {
       "output_type": "stream",
       "stream": "stdout",
       "text": [
        "                 beyer  line_race\n",
        "Last Gunfighter     99         10\n",
        "Last Gunfighter    102         10\n",
        "Last Gunfighter    103          8\n",
        "Paynter            103         10\n",
        "Paynter             88         10\n",
        "Paynter            100          8\n"
       ]
      },
      {
       "html": [
        "<div style=\"max-height:1000px;max-width:1500px;overflow:auto;\">\n",
        "<table border=\"1\" class=\"dataframe\">\n",
        "  <thead>\n",
        "    <tr style=\"text-align: right;\">\n",
        "      <th></th>\n",
        "      <th>beyer</th>\n",
        "      <th>line_race</th>\n",
        "      <th>beyer_shifted</th>\n",
        "    </tr>\n",
        "  </thead>\n",
        "  <tbody>\n",
        "    <tr>\n",
        "      <th>Last Gunfighter</th>\n",
        "      <td>  99</td>\n",
        "      <td> 10</td>\n",
        "      <td> NaN</td>\n",
        "    </tr>\n",
        "    <tr>\n",
        "      <th>Last Gunfighter</th>\n",
        "      <td> 102</td>\n",
        "      <td> 10</td>\n",
        "      <td>  99</td>\n",
        "    </tr>\n",
        "    <tr>\n",
        "      <th>Last Gunfighter</th>\n",
        "      <td> 103</td>\n",
        "      <td>  8</td>\n",
        "      <td> 102</td>\n",
        "    </tr>\n",
        "    <tr>\n",
        "      <th>Paynter</th>\n",
        "      <td> 103</td>\n",
        "      <td> 10</td>\n",
        "      <td> NaN</td>\n",
        "    </tr>\n",
        "    <tr>\n",
        "      <th>Paynter</th>\n",
        "      <td>  88</td>\n",
        "      <td> 10</td>\n",
        "      <td> 103</td>\n",
        "    </tr>\n",
        "    <tr>\n",
        "      <th>Paynter</th>\n",
        "      <td> 100</td>\n",
        "      <td>  8</td>\n",
        "      <td>  88</td>\n",
        "    </tr>\n",
        "  </tbody>\n",
        "</table>\n",
        "</div>"
       ],
       "metadata": {},
       "output_type": "pyout",
       "prompt_number": 25,
       "text": [
        "                 beyer  line_race  beyer_shifted\n",
        "Last Gunfighter     99         10            NaN\n",
        "Last Gunfighter    102         10             99\n",
        "Last Gunfighter    103          8            102\n",
        "Paynter            103         10            NaN\n",
        "Paynter             88         10            103\n",
        "Paynter            100          8             88"
       ]
      }
     ],
     "prompt_number": 25
    },
    {
     "cell_type": "code",
     "collapsed": false,
     "input": [
      "df = pd.DataFrame({'host':['other','other','that','this','this'],\n",
      "                   'service':['mail','web','mail','mail','web'],\n",
      "                   'no':[1, 2, 1, 2, 1]}).set_index(['host', 'service'])\n",
      "print(df)\n",
      "print(type(df.groupby(level=0)))\n",
      "mask = df.groupby(level=0).agg('idxmax')\n",
      "print(mask)\n",
      "df_count = df.loc[mask['no']].reset_index()\n",
      "print(df_count)"
     ],
     "language": "python",
     "metadata": {},
     "outputs": [
      {
       "output_type": "stream",
       "stream": "stdout",
       "text": [
        "               no\n",
        "host  service    \n",
        "other mail      1\n",
        "      web       2\n",
        "that  mail      1\n",
        "this  mail      2\n",
        "      web       1\n",
        "<class 'pandas.core.groupby.DataFrameGroupBy'>\n",
        "                 no\n",
        "host               \n",
        "other  (other, web)\n",
        "that   (that, mail)\n",
        "this   (this, mail)\n",
        "    host service  no\n",
        "0  other     web   2\n",
        "1   that    mail   1\n",
        "2   this    mail   2\n"
       ]
      }
     ],
     "prompt_number": 41
    },
    {
     "cell_type": "code",
     "collapsed": false,
     "input": [],
     "language": "python",
     "metadata": {},
     "outputs": []
    }
   ],
   "metadata": {}
  }
 ]
}